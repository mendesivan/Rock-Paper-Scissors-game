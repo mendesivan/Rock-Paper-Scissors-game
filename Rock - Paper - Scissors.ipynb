{
 "cells": [
  {
   "cell_type": "code",
   "execution_count": null,
   "metadata": {},
   "outputs": [],
   "source": [
    "import random\n",
    "\n",
    "print(\"Let's play Rock, Paper, Scissor! Let's get started!\\n\")\n",
    "\n",
    "user = None\n",
    "\n",
    "computer = random.choice(['rock','paper','scissor'])\n",
    "\n",
    "while user == None:\n",
    "    user = input('Please enter your choice: ')\n",
    "    if user not in ['rock','paper','scissor']:\n",
    "        print('Please choose a valid choice.')\n",
    "        user = None\n",
    "\n",
    "print(\"\\nResults:\\n\")\n",
    "if user == computer:\n",
    "    print('Draw')\n",
    "if user == 'rock':\n",
    "    if computer == 'paper':\n",
    "        print('\\nComputer wins')\n",
    "    elif computer == 'scissor':\n",
    "        print('\\nUser wins')\n",
    "if user == 'paper':\n",
    "    if computer == 'scissor':\n",
    "        print('\\nComputer wins')\n",
    "    elif computer == 'rock':\n",
    "        print('\\nUser wins')\n",
    "if user == 'scissor':\n",
    "    if computer == 'rock':\n",
    "        print('\\nComputer wins')\n",
    "    elif computer == 'paper':\n",
    "        print('\\nUser wins')\n",
    "\n",
    "print('Computer is {}'.format(computer))\n",
    "print('User is {}'.format(user))"
   ]
  }
 ],
 "metadata": {
  "kernelspec": {
   "display_name": "Python 3",
   "language": "python",
   "name": "python3"
  },
  "language_info": {
   "codemirror_mode": {
    "name": "ipython",
    "version": 3
   },
   "file_extension": ".py",
   "mimetype": "text/x-python",
   "name": "python",
   "nbconvert_exporter": "python",
   "pygments_lexer": "ipython3",
   "version": "3.7.0"
  }
 },
 "nbformat": 4,
 "nbformat_minor": 2
}
